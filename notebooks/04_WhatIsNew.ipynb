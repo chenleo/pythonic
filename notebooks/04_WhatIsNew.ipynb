{
 "cells": [
  {
   "cell_type": "markdown",
   "metadata": {},
   "source": [
    "# What's new in Python 3.5 & 3.6"
   ]
  },
  {
   "cell_type": "code",
   "execution_count": 1,
   "metadata": {},
   "outputs": [
    {
     "name": "stdout",
     "output_type": "stream",
     "text": [
      "3.6.5 (v3.6.5:f59c0932b4, Mar 28 2018, 05:52:31) \n",
      "[GCC 4.2.1 Compatible Apple LLVM 6.0 (clang-600.0.57)]\n"
     ]
    }
   ],
   "source": [
    "import sys\n",
    "print(sys.version)"
   ]
  },
  {
   "cell_type": "markdown",
   "metadata": {},
   "source": [
    "## PEP 465 - A dedicated infix operator for matrix multiplication (3.5)"
   ]
  },
  {
   "cell_type": "code",
   "execution_count": 8,
   "metadata": {},
   "outputs": [
    {
     "name": "stdout",
     "output_type": "stream",
     "text": [
      "[[1 0]\n",
      " [0 4]]\n",
      "[[1 2]\n",
      " [3 4]]\n"
     ]
    }
   ],
   "source": [
    "from numpy import array\n",
    "A = array([[1, 2], \n",
    "           [3, 4]])\n",
    "B = array([[1, 0], \n",
    "           [0, 1]])\n",
    "print(A * B)\n",
    "print(A @ B)"
   ]
  },
  {
   "cell_type": "code",
   "execution_count": 10,
   "metadata": {},
   "outputs": [
    {
     "data": {
      "text/plain": [
       "\u001b[0;31mSignature:\u001b[0m      \u001b[0mA\u001b[0m\u001b[0;34m.\u001b[0m\u001b[0m__matmul__\u001b[0m\u001b[0;34m(\u001b[0m\u001b[0mvalue\u001b[0m\u001b[0;34m,\u001b[0m \u001b[0;34m/\u001b[0m\u001b[0;34m)\u001b[0m\u001b[0;34m\u001b[0m\u001b[0m\n",
       "\u001b[0;31mCall signature:\u001b[0m \u001b[0mA\u001b[0m\u001b[0;34m.\u001b[0m\u001b[0m__matmul__\u001b[0m\u001b[0;34m(\u001b[0m\u001b[0;34m*\u001b[0m\u001b[0margs\u001b[0m\u001b[0;34m,\u001b[0m \u001b[0;34m**\u001b[0m\u001b[0mkwargs\u001b[0m\u001b[0;34m)\u001b[0m\u001b[0;34m\u001b[0m\u001b[0m\n",
       "\u001b[0;31mType:\u001b[0m           method-wrapper\n",
       "\u001b[0;31mString form:\u001b[0m    <method-wrapper '__matmul__' of numpy.ndarray object at 0x10b503c60>\n",
       "\u001b[0;31mDocstring:\u001b[0m      Return self@value.\n"
      ]
     },
     "metadata": {},
     "output_type": "display_data"
    }
   ],
   "source": [
    "A.__matmul__?"
   ]
  },
  {
   "cell_type": "markdown",
   "metadata": {},
   "source": [
    "## PEP 448 - Additional Unpacking Generalizations (3.5)"
   ]
  },
  {
   "cell_type": "code",
   "execution_count": 12,
   "metadata": {},
   "outputs": [
    {
     "name": "stdout",
     "output_type": "stream",
     "text": [
      "1 2 3 4 5\n"
     ]
    }
   ],
   "source": [
    "print(*[1], *[2], 3, *[4, 5])"
   ]
  },
  {
   "cell_type": "code",
   "execution_count": 13,
   "metadata": {},
   "outputs": [
    {
     "data": {
      "text/plain": [
       "(0, 1, 2, 3, 4)"
      ]
     },
     "execution_count": 13,
     "metadata": {},
     "output_type": "execute_result"
    }
   ],
   "source": [
    "*range(4), 4"
   ]
  },
  {
   "cell_type": "code",
   "execution_count": 14,
   "metadata": {},
   "outputs": [
    {
     "data": {
      "text/plain": [
       "[0, 1, 2, 3, 4]"
      ]
     },
     "execution_count": 14,
     "metadata": {},
     "output_type": "execute_result"
    }
   ],
   "source": [
    "[*range(4), 4]"
   ]
  },
  {
   "cell_type": "code",
   "execution_count": 15,
   "metadata": {},
   "outputs": [
    {
     "data": {
      "text/plain": [
       "{0, 1, 2, 3, 4, 5, 6, 7}"
      ]
     },
     "execution_count": 15,
     "metadata": {},
     "output_type": "execute_result"
    }
   ],
   "source": [
    "{*range(6), 4, *(5, 6, 7)}"
   ]
  },
  {
   "cell_type": "code",
   "execution_count": 1,
   "metadata": {},
   "outputs": [
    {
     "data": {
      "text/plain": [
       "{'y': 2, 'z': 3}"
      ]
     },
     "execution_count": 1,
     "metadata": {},
     "output_type": "execute_result"
    }
   ],
   "source": [
    "{'y': 1, **{'y': 2, 'z': 3}}"
   ]
  },
  {
   "cell_type": "markdown",
   "metadata": {},
   "source": [
    "## PEP 485: A function for testing approximate equality (3.5)"
   ]
  },
  {
   "cell_type": "code",
   "execution_count": 17,
   "metadata": {},
   "outputs": [
    {
     "name": "stdout",
     "output_type": "stream",
     "text": [
      "0.30000000000000004\n",
      "False\n"
     ]
    }
   ],
   "source": [
    "print(0.1 + 0.2)\n",
    "print(0.1 + 0.2 == 0.3)"
   ]
  },
  {
   "cell_type": "code",
   "execution_count": 19,
   "metadata": {},
   "outputs": [
    {
     "data": {
      "text/plain": [
       "True"
      ]
     },
     "execution_count": 19,
     "metadata": {},
     "output_type": "execute_result"
    }
   ],
   "source": [
    "import math\n",
    "math.isclose(0.1 + 0.2, 0.3, rel_tol=1e-5)"
   ]
  },
  {
   "cell_type": "markdown",
   "metadata": {},
   "source": [
    "## Reimplemented dict (3.6)\n",
    "The dict type has been reimplemented to use a more compact representation based on a proposal by Raymond Hettinger and similar to the PyPy dict implementation. This resulted in dictionaries using 20% to 25% less memory when compared to Python 3.5."
   ]
  },
  {
   "cell_type": "code",
   "execution_count": 2,
   "metadata": {},
   "outputs": [
    {
     "name": "stdout",
     "output_type": "stream",
     "text": [
      "{'A': 'red', 'B': 'yellow', 'C': 'blue', 'D': 'black', 'E': 'white'}\n",
      "{'A': 'dog', 'B': 'cat', 'C': 'duck', 'D': 'goat', 'E': 'elephant'}\n",
      "{'A': 'car', 'B': 'bus', 'C': 'bike', 'D': 'train', 'E': 'plain'}\n",
      "[112, 112, 112]\n"
     ]
    }
   ],
   "source": [
    "%%python3\n",
    "class MyClass(object):\n",
    "    def __init__(self, A, B, C, D, E):\n",
    "        self.A = A\n",
    "        self.B = B\n",
    "        self.C = C\n",
    "        self.D = D\n",
    "        self.E = E\n",
    "        \n",
    "obj1 = MyClass(\"red\", \"yellow\", \"blue\", \"black\", \"white\")\n",
    "obj2 = MyClass(\"dog\", \"cat\", \"duck\", \"goat\", \"elephant\")\n",
    "obj3 = MyClass(\"car\", \"bus\", \"bike\", \"train\", \"plain\")\n",
    "\n",
    "import sys\n",
    "for obj in [obj1, obj2, obj3]:\n",
    "    print(vars(obj))\n",
    "    \n",
    "print(list(map(sys.getsizeof, map(vars, [obj1, obj2, obj3]))))"
   ]
  },
  {
   "cell_type": "markdown",
   "metadata": {},
   "source": [
    "## PEP 498: Formatted string literals (3.6)"
   ]
  },
  {
   "cell_type": "code",
   "execution_count": 3,
   "metadata": {},
   "outputs": [
    {
     "data": {
      "text/plain": [
       "\"Hello, Mr. Thunder!, Welcome to ('planet', 'earth', 'China')\""
      ]
     },
     "execution_count": 3,
     "metadata": {},
     "output_type": "execute_result"
    }
   ],
   "source": [
    "whom = \"Mr. Thunder\"\n",
    "where = \"planet\", \"earth\", \"China\"\n",
    "f\"Hello, {whom}!, Welcome to {where}\""
   ]
  },
  {
   "cell_type": "code",
   "execution_count": 4,
   "metadata": {},
   "outputs": [
    {
     "name": "stdout",
     "output_type": "stream",
     "text": [
      "There are 2 apples in the shop_cart\n",
      "There are 3 bananas in the shop_cart\n",
      "There are 15 oranges in the shop_cart\n"
     ]
    }
   ],
   "source": [
    "shop_cart = {\"apple\": 2, \"banana\": 3, \"orange\": 15}\n",
    "for fruit, num in shop_cart.items():\n",
    "    print(f\"There are {num} {fruit}s in the shop_cart\")"
   ]
  },
  {
   "cell_type": "markdown",
   "metadata": {},
   "source": [
    "## PEP 515: Underscores in Numeric Literals (3.6)"
   ]
  },
  {
   "cell_type": "code",
   "execution_count": 35,
   "metadata": {},
   "outputs": [
    {
     "name": "stdout",
     "output_type": "stream",
     "text": [
      "1000000000 4294967295\n",
      "One billion is : 1_000_000_000\n",
      "Black is: ffff_ffff\n"
     ]
    }
   ],
   "source": [
    "one_billion = 1_000_000_000\n",
    "black = 0x_FF_FF_FF_FF\n",
    "print(one_billion, black)\n",
    "print(f\"One billion is : {one_billion:_}\")\n",
    "print(f\"Black is: {black:_x}\")"
   ]
  },
  {
   "cell_type": "markdown",
   "metadata": {},
   "source": [
    "## PEP 526: Syntax for variable annotations (3.6)"
   ]
  },
  {
   "cell_type": "code",
   "execution_count": 36,
   "metadata": {},
   "outputs": [],
   "source": [
    "from typing import ClassVar\n",
    "module_level: str = \"annotations\"\n",
    "class Anotated:\n",
    "    ins: int           # Does not exist yet\n",
    "    ins_with_default: str = \"default anotation\"\n",
    "    cls: ClassVar[float] = 3.14\n",
    "        \n",
    "    def meth(self) -> None:\n",
    "        local: int = 42\n",
    "        does_not_exist_yet: str"
   ]
  },
  {
   "cell_type": "markdown",
   "metadata": {},
   "source": [
    "## asyncio\n",
    "\n",
    "Starting with Python 3.6 the asyncio module is no longer provisional and its API is considered stable.\n",
    "\n",
    "### Note: Jupyter asyncio works with tornado==4.5.3"
   ]
  },
  {
   "cell_type": "code",
   "execution_count": 5,
   "metadata": {},
   "outputs": [
    {
     "name": "stdout",
     "output_type": "stream",
     "text": [
      "Task A: Compute factorial(2)\n",
      "Sleep 2018-05-03 17:52:17.913918\n",
      "Task B: Compute factorial(2)\n",
      "Sleep 2018-05-03 17:52:17.914018\n",
      "Task A: Compute factorial(3)\n",
      "Sleep 2018-05-03 17:52:18.914774\n",
      "Task B: Compute factorial(3)\n",
      "Sleep 2018-05-03 17:52:18.914912\n",
      "Task A: factorial(3) is 6\n",
      "Task B: Compute factorial(4)\n",
      "Sleep 2018-05-03 17:52:19.916919\n",
      "Task B: factorial(4) is 24\n",
      "Total time: 3.010538101196289\n"
     ]
    }
   ],
   "source": [
    "import asyncio\n",
    "import time\n",
    "from datetime import datetime\n",
    "\n",
    "async def custom_sleep() -> None:\n",
    "    print(f\"Sleep {datetime.now()}\")\n",
    "    await asyncio.sleep(1)\n",
    "    # time.sleep(1)\n",
    "    \n",
    "async def factorial(name: str, number: int) -> None:\n",
    "    f = 1\n",
    "    for i in range(2, number + 1):\n",
    "        print(f\"Task {name}: Compute factorial({i})\")\n",
    "        await custom_sleep()\n",
    "        f *= i\n",
    "    print(f\"Task {name}: factorial({number}) is {f}\")\n",
    "\n",
    "start = time.time()\n",
    "loop = asyncio.get_event_loop()\n",
    "\n",
    "tasks = [\n",
    "    asyncio.ensure_future(factorial(\"A\", 3)),\n",
    "    asyncio.ensure_future(factorial(\"B\", 4)),\n",
    "]\n",
    "\n",
    "loop.run_until_complete(asyncio.wait(tasks))\n",
    "loop.close()\n",
    "\n",
    "end = time.time()\n",
    "print(f\"Total time: {end - start}\")"
   ]
  },
  {
   "cell_type": "markdown",
   "metadata": {},
   "source": [
    "## Benchmarks\n",
    "\n",
    "Speed comparison between Python 2.7 & Python 3.6"
   ]
  },
  {
   "cell_type": "markdown",
   "metadata": {},
   "source": [
    "![comparison](../images/benchmark.png)"
   ]
  },
  {
   "cell_type": "code",
   "execution_count": null,
   "metadata": {},
   "outputs": [],
   "source": []
  },
  {
   "cell_type": "code",
   "execution_count": null,
   "metadata": {},
   "outputs": [],
   "source": []
  },
  {
   "cell_type": "code",
   "execution_count": null,
   "metadata": {},
   "outputs": [],
   "source": []
  }
 ],
 "metadata": {
  "kernelspec": {
   "display_name": "Python 3",
   "language": "python",
   "name": "python3"
  },
  "language_info": {
   "codemirror_mode": {
    "name": "ipython",
    "version": 3
   },
   "file_extension": ".py",
   "mimetype": "text/x-python",
   "name": "python",
   "nbconvert_exporter": "python",
   "pygments_lexer": "ipython3",
   "version": "3.6.5"
  }
 },
 "nbformat": 4,
 "nbformat_minor": 2
}
