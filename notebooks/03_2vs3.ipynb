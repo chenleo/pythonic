{
 "cells": [
  {
   "cell_type": "markdown",
   "metadata": {},
   "source": [
    "# Python 2 v.s. 3"
   ]
  },
  {
   "cell_type": "code",
   "execution_count": 13,
   "metadata": {},
   "outputs": [
    {
     "name": "stdout",
     "output_type": "stream",
     "text": [
      "2.7.14 (default, Mar 22 2018, 14:43:05) \n",
      "[GCC 4.2.1 Compatible Apple LLVM 9.0.0 (clang-900.0.39.2)]\n"
     ]
    }
   ],
   "source": [
    "%%python2\n",
    "import sys\n",
    "print(sys.version)"
   ]
  },
  {
   "cell_type": "code",
   "execution_count": 14,
   "metadata": {},
   "outputs": [
    {
     "name": "stdout",
     "output_type": "stream",
     "text": [
      "3.6.5 (v3.6.5:f59c0932b4, Mar 28 2018, 05:52:31) \n",
      "[GCC 4.2.1 Compatible Apple LLVM 6.0 (clang-600.0.57)]\n"
     ]
    }
   ],
   "source": [
    "%%python3\n",
    "import sys\n",
    "print(sys.version)"
   ]
  },
  {
   "cell_type": "markdown",
   "metadata": {},
   "source": [
    "## Print statment v.s. function"
   ]
  },
  {
   "cell_type": "code",
   "execution_count": 15,
   "metadata": {},
   "outputs": [
    {
     "name": "stdout",
     "output_type": "stream",
     "text": [
      "Hello, World!\n",
      "Hello, World!\n",
      "text print more text on the same line\n"
     ]
    }
   ],
   "source": [
    "%%python2\n",
    "print 'Hello, World!'\n",
    "print('Hello, World!')\n",
    "print \"text\", ; print 'print more text on the same line'"
   ]
  },
  {
   "cell_type": "code",
   "execution_count": 16,
   "metadata": {},
   "outputs": [
    {
     "name": "stdout",
     "output_type": "stream",
     "text": [
      "Hello, World!\n",
      "some text, print more text on the same line\n"
     ]
    }
   ],
   "source": [
    "%%python3\n",
    "print('Hello, World!')\n",
    "print(\"some text,\", end=\"\")\n",
    "print(' print more text on the same line')"
   ]
  },
  {
   "cell_type": "code",
   "execution_count": 17,
   "metadata": {},
   "outputs": [
    {
     "name": "stderr",
     "output_type": "stream",
     "text": [
      "  File \"<stdin>\", line 1\n",
      "    print 'Hello, World!'\n",
      "                        ^\n",
      "SyntaxError: Missing parentheses in call to 'print'. Did you mean print('Hello, World!')?\n"
     ]
    }
   ],
   "source": [
    "%%python3\n",
    "print 'Hello, World!'"
   ]
  },
  {
   "cell_type": "markdown",
   "metadata": {},
   "source": [
    "### Note:\n",
    "\n",
    "Printing “Hello, World” above via Python 2 looked quite “normal”. However, if we have multiple objects inside the parantheses, we will create a tuple, since print is a “statement” in Python 2, not a function call."
   ]
  },
  {
   "cell_type": "code",
   "execution_count": 18,
   "metadata": {},
   "outputs": [
    {
     "name": "stdout",
     "output_type": "stream",
     "text": [
      "('a', 'b')\n",
      "a b\n"
     ]
    }
   ],
   "source": [
    "%%python2\n",
    "print('a', 'b')\n",
    "print 'a', 'b'"
   ]
  },
  {
   "cell_type": "markdown",
   "metadata": {},
   "source": [
    "## Integer division"
   ]
  },
  {
   "cell_type": "code",
   "execution_count": 19,
   "metadata": {},
   "outputs": [
    {
     "name": "stdout",
     "output_type": "stream",
     "text": [
      "3 / 2 = 1\n",
      "3 // 2 = 1\n",
      "3 / 2.0 = 1.5\n",
      "3 // 2.0 = 1.0\n"
     ]
    }
   ],
   "source": [
    "%%python2\n",
    "print '3 / 2 ==', 3 / 2\n",
    "print '3 // 2 ==', 3 // 2\n",
    "print '3 / 2.0 ==', 3 / 2.0\n",
    "print '3 // 2.0 ==', 3 // 2.0"
   ]
  },
  {
   "cell_type": "code",
   "execution_count": 23,
   "metadata": {},
   "outputs": [
    {
     "name": "stdout",
     "output_type": "stream",
     "text": [
      "3 / 2 = 1.5\n",
      "3 // 2 = 1\n",
      "3 / 2.0 = 1.5\n",
      "3 // 2.0 = 1.0\n"
     ]
    }
   ],
   "source": [
    "%%python3\n",
    "print('3 / 2 =', 3 / 2)\n",
    "print('3 // 2 =', 3 // 2)\n",
    "print('3 / 2.0 =', 3 / 2.0)\n",
    "print('3 // 2.0 =', 3 // 2.0)"
   ]
  },
  {
   "cell_type": "markdown",
   "metadata": {},
   "source": [
    "## Unicode\n",
    "\n",
    "Python 2 has ASCII str() types, separate unicode(), but no byte type.\n",
    "Now, in Python 3, we finally have Unicode (utf-8) strings, and 2 byte classes: byte and bytearrays."
   ]
  },
  {
   "cell_type": "code",
   "execution_count": 27,
   "metadata": {},
   "outputs": [
    {
     "name": "stdout",
     "output_type": "stream",
     "text": [
      "<type 'unicode'>\n",
      "<type 'str'>\n",
      "they are really the same\n",
      "<type 'bytearray'>\n"
     ]
    }
   ],
   "source": [
    "%%python2\n",
    "print type(unicode('this is like a python3 str type'))\n",
    "print type(b'byte type does not exist')\n",
    "print 'they are really' + b' the same'\n",
    "print type(bytearray(b'bytearray oddly does exist though'))"
   ]
  },
  {
   "cell_type": "code",
   "execution_count": 33,
   "metadata": {},
   "outputs": [
    {
     "name": "stdout",
     "output_type": "stream",
     "text": [
      "strings are now utf-8 μnicoΔé!\n",
      "<class 'bytes'>\n",
      "<class 'bytearray'>\n"
     ]
    },
    {
     "name": "stderr",
     "output_type": "stream",
     "text": [
      "Traceback (most recent call last):\n",
      "  File \"<stdin>\", line 4, in <module>\n",
      "TypeError: must be str, not bytes\n"
     ]
    }
   ],
   "source": [
    "%%python3\n",
    "print('strings are now utf-8 \\u03BCnico\\u0394é!')\n",
    "print(type(b' bytes for storing data'))\n",
    "print(type(bytearray(b'bytearrays')))\n",
    "'note that we cannot add a string' + b'bytes for data'"
   ]
  },
  {
   "cell_type": "markdown",
   "metadata": {},
   "source": [
    "## Lists v.s. iterable objects"
   ]
  },
  {
   "cell_type": "code",
   "execution_count": 45,
   "metadata": {},
   "outputs": [
    {
     "name": "stdout",
     "output_type": "stream",
     "text": [
      "[0, 1, 2, 3, 4, 5, 6, 7, 8, 9, 10, 11]\n",
      "<type 'list'>\n",
      "<type 'xrange'>\n",
      "168 40\n"
     ]
    }
   ],
   "source": [
    "%%python2\n",
    "from sys import getsizeof\n",
    "print range(12)\n",
    "print type(range(12))\n",
    "print type(xrange(12))\n",
    "print getsizeof(range(12)), getsizeof(xrange(12))"
   ]
  },
  {
   "cell_type": "code",
   "execution_count": 48,
   "metadata": {},
   "outputs": [
    {
     "name": "stdout",
     "output_type": "stream",
     "text": [
      "range(0, 12)\n",
      "<class 'range'>\n",
      "[0, 1, 2, 3, 4, 5, 6, 7, 8, 9, 10, 11]\n",
      "48\n"
     ]
    }
   ],
   "source": [
    "%%python3\n",
    "# no xrange for python 3\n",
    "from sys import getsizeof\n",
    "print(range(12))\n",
    "print(type(range(12)))\n",
    "print(list(range(12)))\n",
    "print(getsizeof(range(12)))"
   ]
  },
  {
   "cell_type": "markdown",
   "metadata": {},
   "source": [
    "### Some more commonly used functions and methods that don’t return lists anymore in Python 3:\n",
    "\n",
    "- zip()\n",
    "\n",
    "- map()\n",
    "\n",
    "- filter()\n",
    "\n",
    "- dictionary’s .keys() method\n",
    "\n",
    "- dictionary’s .values() method\n",
    "\n",
    "- dictionary’s .items() method"
   ]
  },
  {
   "cell_type": "markdown",
   "metadata": {},
   "source": [
    "## Raising exceptions"
   ]
  },
  {
   "cell_type": "code",
   "execution_count": 49,
   "metadata": {},
   "outputs": [
    {
     "name": "stderr",
     "output_type": "stream",
     "text": [
      "Traceback (most recent call last):\n",
      "  File \"<stdin>\", line 1, in <module>\n",
      "IOError: file error\n"
     ]
    }
   ],
   "source": [
    "%%python2\n",
    "raise IOError, \"file error\"     ## old way"
   ]
  },
  {
   "cell_type": "code",
   "execution_count": 50,
   "metadata": {},
   "outputs": [
    {
     "name": "stderr",
     "output_type": "stream",
     "text": [
      "Traceback (most recent call last):\n",
      "  File \"<stdin>\", line 1, in <module>\n",
      "IOError: file error\n"
     ]
    }
   ],
   "source": [
    "%%python2\n",
    "raise IOError(\"file error\")     ## new way"
   ]
  },
  {
   "cell_type": "code",
   "execution_count": 51,
   "metadata": {},
   "outputs": [
    {
     "name": "stderr",
     "output_type": "stream",
     "text": [
      "  File \"<stdin>\", line 1\n",
      "    raise IOError, \"file error\"     ## old way does not work\n",
      "                 ^\n",
      "SyntaxError: invalid syntax\n"
     ]
    }
   ],
   "source": [
    "%%python3\n",
    "raise IOError, \"file error\"     ## old way does not work"
   ]
  },
  {
   "cell_type": "code",
   "execution_count": 52,
   "metadata": {},
   "outputs": [
    {
     "name": "stderr",
     "output_type": "stream",
     "text": [
      "Traceback (most recent call last):\n",
      "  File \"<stdin>\", line 1, in <module>\n",
      "OSError: file error\n"
     ]
    }
   ],
   "source": [
    "%%python3\n",
    "raise IOError(\"file error\")     ## new way is ok"
   ]
  },
  {
   "cell_type": "markdown",
   "metadata": {},
   "source": [
    "## The next() function and .next() method"
   ]
  },
  {
   "cell_type": "code",
   "execution_count": 53,
   "metadata": {},
   "outputs": [
    {
     "name": "stdout",
     "output_type": "stream",
     "text": [
      "<type 'generator'>\n",
      "a\n",
      "b\n"
     ]
    }
   ],
   "source": [
    "%%python2\n",
    "my_generator = (letter for letter in 'abcdefg')\n",
    "print type(my_generator)\n",
    "print next(my_generator)\n",
    "print my_generator.next()"
   ]
  },
  {
   "cell_type": "code",
   "execution_count": 54,
   "metadata": {},
   "outputs": [
    {
     "name": "stdout",
     "output_type": "stream",
     "text": [
      "<class 'generator'>\n",
      "a\n"
     ]
    },
    {
     "name": "stderr",
     "output_type": "stream",
     "text": [
      "Traceback (most recent call last):\n",
      "  File \"<stdin>\", line 4, in <module>\n",
      "AttributeError: 'generator' object has no attribute 'next'\n"
     ]
    }
   ],
   "source": [
    "%%python3\n",
    "my_generator = (letter for letter in 'abcdefg')\n",
    "print(type(my_generator))\n",
    "print(next(my_generator))\n",
    "print(my_generator.next())"
   ]
  },
  {
   "cell_type": "markdown",
   "metadata": {},
   "source": [
    "## For-loop variables and the global namespace leak"
   ]
  },
  {
   "cell_type": "code",
   "execution_count": 55,
   "metadata": {},
   "outputs": [
    {
     "name": "stdout",
     "output_type": "stream",
     "text": [
      "before: i = 1\n",
      "comprehension:  [0, 1, 2, 3, 4]\n",
      "after: i = 4\n"
     ]
    }
   ],
   "source": [
    "%%python2\n",
    "i = 1\n",
    "print 'before: i =', i\n",
    "\n",
    "print 'comprehension: ', [i for i in range(5)]\n",
    "\n",
    "print 'after: i =', i"
   ]
  },
  {
   "cell_type": "code",
   "execution_count": 56,
   "metadata": {},
   "outputs": [
    {
     "name": "stdout",
     "output_type": "stream",
     "text": [
      "before: i = 1\n",
      "comprehension: [0, 1, 2, 3, 4]\n",
      "after: i = 1\n"
     ]
    }
   ],
   "source": [
    "%%python3\n",
    "i = 1\n",
    "print('before: i =', i)\n",
    "\n",
    "print('comprehension:', [i for i in range(5)])\n",
    "\n",
    "print('after: i =', i)"
   ]
  },
  {
   "cell_type": "markdown",
   "metadata": {},
   "source": [
    "## Comparing unorderable types"
   ]
  },
  {
   "cell_type": "code",
   "execution_count": 57,
   "metadata": {},
   "outputs": [
    {
     "name": "stdout",
     "output_type": "stream",
     "text": [
      "[1, 2] > 'foo' =  False\n",
      "(1, 2) > 'foo' =  True\n",
      "[1, 2] > (1, 2) =  False\n"
     ]
    }
   ],
   "source": [
    "%%python2\n",
    "print \"[1, 2] > 'foo' = \", [1, 2] > 'foo'\n",
    "print \"(1, 2) > 'foo' = \", (1, 2) > 'foo'\n",
    "print \"[1, 2] > (1, 2) = \", [1, 2] > (1, 2)"
   ]
  },
  {
   "cell_type": "code",
   "execution_count": 58,
   "metadata": {},
   "outputs": [
    {
     "name": "stderr",
     "output_type": "stream",
     "text": [
      "Traceback (most recent call last):\n",
      "  File \"<stdin>\", line 1, in <module>\n",
      "TypeError: '>' not supported between instances of 'list' and 'str'\n"
     ]
    }
   ],
   "source": [
    "%%python3\n",
    "print(\"[1, 2] > 'foo' = \", [1, 2] > 'foo')\n",
    "print(\"(1, 2) > 'foo' = \", (1, 2) > 'foo')\n",
    "print(\"[1, 2] > (1, 2) = \", [1, 2] > (1, 2))"
   ]
  },
  {
   "cell_type": "markdown",
   "metadata": {},
   "source": [
    "## Banker’s Rounding\n",
    "\n",
    "Python 3 adopted the now standard way of rounding decimals when it results in a tie (.5) at the last significant digits. Now, in Python 3, decimals are rounded to the nearest even number.\n",
    "\n",
    "- https://en.wikipedia.org/wiki/Rounding#Round_half_to_even"
   ]
  },
  {
   "cell_type": "code",
   "execution_count": 64,
   "metadata": {},
   "outputs": [
    {
     "name": "stdout",
     "output_type": "stream",
     "text": [
      "16.0\n",
      "17.0\n"
     ]
    }
   ],
   "source": [
    "%%python2\n",
    "print round(15.5)\n",
    "print round(16.5)"
   ]
  },
  {
   "cell_type": "code",
   "execution_count": 65,
   "metadata": {},
   "outputs": [
    {
     "name": "stdout",
     "output_type": "stream",
     "text": [
      "16\n",
      "16\n"
     ]
    }
   ],
   "source": [
    "%%python3\n",
    "print(round(15.5))\n",
    "print(round(16.5))"
   ]
  },
  {
   "cell_type": "markdown",
   "metadata": {},
   "source": [
    "## Sort function signature"
   ]
  },
  {
   "cell_type": "code",
   "execution_count": 66,
   "metadata": {},
   "outputs": [
    {
     "name": "stdout",
     "output_type": "stream",
     "text": [
      "Help on method_descriptor:\n",
      "\n",
      "sort(...)\n",
      "    L.sort(cmp=None, key=None, reverse=False) -- stable sort *IN PLACE*;\n",
      "    cmp(x, y) -> -1, 0, 1\n",
      "\n"
     ]
    }
   ],
   "source": [
    "%%python2\n",
    "help(list.sort)"
   ]
  },
  {
   "cell_type": "code",
   "execution_count": 67,
   "metadata": {},
   "outputs": [
    {
     "name": "stdout",
     "output_type": "stream",
     "text": [
      "Help on method_descriptor:\n",
      "\n",
      "sort(...)\n",
      "    L.sort(key=None, reverse=False) -> None -- stable sort *IN PLACE*\n",
      "\n"
     ]
    }
   ],
   "source": [
    "%%python3\n",
    "help(list.sort)"
   ]
  },
  {
   "cell_type": "code",
   "execution_count": null,
   "metadata": {},
   "outputs": [],
   "source": []
  }
 ],
 "metadata": {
  "kernelspec": {
   "display_name": "Python 3",
   "language": "python",
   "name": "python3"
  },
  "language_info": {
   "codemirror_mode": {
    "name": "ipython",
    "version": 3
   },
   "file_extension": ".py",
   "mimetype": "text/x-python",
   "name": "python",
   "nbconvert_exporter": "python",
   "pygments_lexer": "ipython3",
   "version": "3.6.5"
  }
 },
 "nbformat": 4,
 "nbformat_minor": 2
}
